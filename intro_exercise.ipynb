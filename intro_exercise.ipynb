{
 "cells": [
  {
   "cell_type": "code",
   "execution_count": 2,
   "id": "0e000506",
   "metadata": {},
   "outputs": [
    {
     "name": "stdout",
     "output_type": "stream",
     "text": [
      "   Unnamed: 0                                             review  label\n",
      "0       18245  This short spoof can be found on Elite's Mille...      0\n",
      "1       19801  A singularly unfunny musical comedy that artif...      0\n",
      "2        3222  An excellent series, masterfully acted and dir...      1\n",
      "3        6010  The master of movie spectacle Cecil B. De Mill...      1\n",
      "4       16355  I was gifted with this movie as it had such a ...      0\n",
      "Number of positive and negative reviews:  0    3782\n",
      "1    3719\n",
      "Name: label, dtype: int64\n",
      "Proportion of positive and negative reviews:  0    0.504199\n",
      "1    0.495801\n",
      "Name: label, dtype: float64\n"
     ]
    }
   ],
   "source": [
    "import pandas as pd\n",
    "\n",
    "movies = pd.read_csv(\"IMDB_sample.csv\")\n",
    "print(movies.head())\n",
    "\n",
    "# Find the number of positive and negative reviews\n",
    "print(\"Number of positive and negative reviews: \", movies.label.value_counts())\n",
    "\n",
    "# Find the proportion of positive and negative reviews\n",
    "print(\n",
    "    \"Proportion of positive and negative reviews: \",\n",
    "    movies.label.value_counts() / len(movies),\n",
    ")\n"
   ]
  },
  {
   "cell_type": "code",
   "execution_count": null,
   "id": "72534148",
   "metadata": {},
   "outputs": [],
   "source": []
  }
 ],
 "metadata": {
  "kernelspec": {
   "display_name": "Python 3",
   "language": "python",
   "name": "python3"
  },
  "language_info": {
   "codemirror_mode": {
    "name": "ipython",
    "version": 3
   },
   "file_extension": ".py",
   "mimetype": "text/x-python",
   "name": "python",
   "nbconvert_exporter": "python",
   "pygments_lexer": "ipython3",
   "version": "3.8.8"
  }
 },
 "nbformat": 4,
 "nbformat_minor": 5
}
